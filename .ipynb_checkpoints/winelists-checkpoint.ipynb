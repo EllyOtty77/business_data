{
 "cells": [
  {
   "cell_type": "code",
   "execution_count": 3,
   "id": "bc280dcc",
   "metadata": {},
   "outputs": [
    {
     "data": {
      "text/plain": [
       "<Response [200]>"
      ]
     },
     "execution_count": 3,
     "metadata": {},
     "output_type": "execute_result"
    }
   ],
   "source": [
    "import requests\n",
    "import re\n",
    "import pandas as pd\n",
    "from bs4 import BeautifulSoup\n",
    "\n",
    "url = 'https://nairobidrinks.co.ke/pricelist'\n",
    "r = requests.get(url)"
   ]
  },
  {
   "cell_type": "code",
   "execution_count": 8,
   "id": "92b248bc",
   "metadata": {},
   "outputs": [],
   "source": [
    "soup = BeautifulSoup(r.text, 'lxml')\n",
    "sects = soup.find_all('tr')"
   ]
  },
  {
   "cell_type": "code",
   "execution_count": 166,
   "id": "aab4d64c",
   "metadata": {},
   "outputs": [],
   "source": [
    "titles = []\n",
    "for tr in sects:\n",
    "    title = tr.find_all('td')\n",
    "    titles.extend(title)"
   ]
  },
  {
   "cell_type": "code",
   "execution_count": 168,
   "id": "53decf2a",
   "metadata": {
    "scrolled": true
   },
   "outputs": [],
   "source": [
    "products = [title.text.strip() for title in titles]\n",
    "caps = products[0::3]\n",
    "prices = products[1::3]"
   ]
  },
  {
   "cell_type": "code",
   "execution_count": 169,
   "id": "91d3a962",
   "metadata": {
    "scrolled": true
   },
   "outputs": [],
   "source": [
    "prod_split = [cap.split('\\n') for cap in caps]\n",
    "names = [split[0] for split in prod_split]\n",
    "vol = [split[1] for split in prod_split]\n",
    "\n",
    "full_list = {\n",
    "    'Name': names,\n",
    "    'Volume': vol,\n",
    "    'Price': prices\n",
    "}"
   ]
  },
  {
   "cell_type": "code",
   "execution_count": 184,
   "id": "1adf273a",
   "metadata": {},
   "outputs": [],
   "source": [
    "df = pd.DataFrame(full_list)\n",
    "df.drop_duplicates()\n",
    "df.to_csv('Liqourlist.csv', index=False)"
   ]
  },
  {
   "cell_type": "code",
   "execution_count": 182,
   "id": "00b985a9",
   "metadata": {},
   "outputs": [
    {
     "data": {
      "text/html": [
       "<div>\n",
       "<style scoped>\n",
       "    .dataframe tbody tr th:only-of-type {\n",
       "        vertical-align: middle;\n",
       "    }\n",
       "\n",
       "    .dataframe tbody tr th {\n",
       "        vertical-align: top;\n",
       "    }\n",
       "\n",
       "    .dataframe thead th {\n",
       "        text-align: right;\n",
       "    }\n",
       "</style>\n",
       "<table border=\"1\" class=\"dataframe\">\n",
       "  <thead>\n",
       "    <tr style=\"text-align: right;\">\n",
       "      <th></th>\n",
       "      <th>Name</th>\n",
       "      <th>Volume</th>\n",
       "      <th>Price</th>\n",
       "    </tr>\n",
       "  </thead>\n",
       "  <tbody>\n",
       "    <tr>\n",
       "      <th>0</th>\n",
       "      <td>Jack Daniels Tennessee Cola</td>\n",
       "      <td>330 ml</td>\n",
       "      <td>Ksh 460</td>\n",
       "    </tr>\n",
       "    <tr>\n",
       "      <th>1</th>\n",
       "      <td>Best whisky</td>\n",
       "      <td>750 ml</td>\n",
       "      <td>Ksh 1,400</td>\n",
       "    </tr>\n",
       "    <tr>\n",
       "      <th>2</th>\n",
       "      <td>Black &amp; white whisky</td>\n",
       "      <td>750 ml</td>\n",
       "      <td>Ksh 1,499</td>\n",
       "    </tr>\n",
       "    <tr>\n",
       "      <th>3</th>\n",
       "      <td>William lawson</td>\n",
       "      <td>750 ml</td>\n",
       "      <td>Ksh 1,800</td>\n",
       "    </tr>\n",
       "    <tr>\n",
       "      <th>4</th>\n",
       "      <td>Sir Edwards</td>\n",
       "      <td>750 ml</td>\n",
       "      <td>Ksh 1,800</td>\n",
       "    </tr>\n",
       "    <tr>\n",
       "      <th>...</th>\n",
       "      <td>...</td>\n",
       "      <td>...</td>\n",
       "      <td>...</td>\n",
       "    </tr>\n",
       "    <tr>\n",
       "      <th>2581</th>\n",
       "      <td>Dom perignon brut luminous</td>\n",
       "      <td>750 ml</td>\n",
       "      <td>Ksh 59,999</td>\n",
       "    </tr>\n",
       "    <tr>\n",
       "      <th>2582</th>\n",
       "      <td>Dom perignon brut 20.. vintage</td>\n",
       "      <td>750 ml</td>\n",
       "      <td>Ksh 59,999</td>\n",
       "    </tr>\n",
       "    <tr>\n",
       "      <th>2583</th>\n",
       "      <td>Dom perignon rose</td>\n",
       "      <td>750 ml</td>\n",
       "      <td>Ksh 64,999</td>\n",
       "    </tr>\n",
       "    <tr>\n",
       "      <th>2584</th>\n",
       "      <td>Armand de brignac ace of spades brut gold cham...</td>\n",
       "      <td>750 ml</td>\n",
       "      <td>Ksh 64,999</td>\n",
       "    </tr>\n",
       "    <tr>\n",
       "      <th>2585</th>\n",
       "      <td>Armand de brignac ace of spades rose</td>\n",
       "      <td>750 ml</td>\n",
       "      <td>Ksh 69,999</td>\n",
       "    </tr>\n",
       "  </tbody>\n",
       "</table>\n",
       "<p>2586 rows × 3 columns</p>\n",
       "</div>"
      ],
      "text/plain": [
       "                                                   Name  \\\n",
       "0                           Jack Daniels Tennessee Cola   \n",
       "1                                           Best whisky   \n",
       "2                                  Black & white whisky   \n",
       "3                                        William lawson   \n",
       "4                                           Sir Edwards   \n",
       "...                                                 ...   \n",
       "2581                         Dom perignon brut luminous   \n",
       "2582                     Dom perignon brut 20.. vintage   \n",
       "2583                                  Dom perignon rose   \n",
       "2584  Armand de brignac ace of spades brut gold cham...   \n",
       "2585               Armand de brignac ace of spades rose   \n",
       "\n",
       "                            Volume       Price  \n",
       "0                           330 ml     Ksh 460  \n",
       "1                           750 ml   Ksh 1,400  \n",
       "2                           750 ml   Ksh 1,499  \n",
       "3                           750 ml   Ksh 1,800  \n",
       "4                           750 ml   Ksh 1,800  \n",
       "...                            ...         ...  \n",
       "2581                        750 ml  Ksh 59,999  \n",
       "2582                        750 ml  Ksh 59,999  \n",
       "2583                        750 ml  Ksh 64,999  \n",
       "2584                        750 ml  Ksh 64,999  \n",
       "2585                        750 ml  Ksh 69,999  \n",
       "\n",
       "[2586 rows x 3 columns]"
      ]
     },
     "execution_count": 182,
     "metadata": {},
     "output_type": "execute_result"
    }
   ],
   "source": [
    "viewdf = pd.read_csv('Liqourlist.csv')\n",
    "viewdf"
   ]
  }
 ],
 "metadata": {
  "kernelspec": {
   "display_name": "Python 3",
   "language": "python",
   "name": "python3"
  },
  "language_info": {
   "codemirror_mode": {
    "name": "ipython",
    "version": 3
   },
   "file_extension": ".py",
   "mimetype": "text/x-python",
   "name": "python",
   "nbconvert_exporter": "python",
   "pygments_lexer": "ipython3",
   "version": "3.11.5"
  }
 },
 "nbformat": 4,
 "nbformat_minor": 5
}
