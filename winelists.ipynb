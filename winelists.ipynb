{
 "cells": [
  {
   "cell_type": "markdown",
   "id": "hmvdWrs7_Tq6",
   "metadata": {
    "id": "hmvdWrs7_Tq6"
   },
   "source": [
    "# **Winelists**"
   ]
  },
  {
   "cell_type": "code",
   "execution_count": null,
   "id": "bc280dcc",
   "metadata": {
    "id": "bc280dcc",
    "outputId": "0802dcef-c188-4496-9d7d-1c618a99180a"
   },
   "outputs": [
    {
     "data": {
      "text/plain": [
       "<Response [200]>"
      ]
     },
     "execution_count": 3,
     "metadata": {},
     "output_type": "execute_result"
    }
   ],
   "source": [
    "import requests\n",
    "import re\n",
    "import pandas as pd\n",
    "from bs4 import BeautifulSoup\n",
    "\n",
    "url = 'https://nairobidrinks.co.ke/pricelist'\n",
    "r = requests.get(url)"
   ]
  },
  {
   "cell_type": "code",
   "execution_count": null,
   "id": "92b248bc",
   "metadata": {
    "id": "92b248bc"
   },
   "outputs": [],
   "source": [
    "soup = BeautifulSoup(r.text, 'lxml')\n",
    "sects = soup.find_all('tr')"
   ]
  },
  {
   "cell_type": "code",
   "execution_count": null,
   "id": "aab4d64c",
   "metadata": {
    "id": "aab4d64c"
   },
   "outputs": [],
   "source": [
    "titles = []\n",
    "for tr in sects:\n",
    "    title = tr.find_all('td')\n",
    "    titles.extend(title)"
   ]
  },
  {
   "cell_type": "code",
   "execution_count": null,
   "id": "53decf2a",
   "metadata": {
    "id": "53decf2a",
    "scrolled": true
   },
   "outputs": [],
   "source": [
    "products = [title.text.strip() for title in titles]\n",
    "caps = products[0::3]\n",
    "prices = products[1::3]"
   ]
  },
  {
   "cell_type": "code",
   "execution_count": null,
   "id": "91d3a962",
   "metadata": {
    "id": "91d3a962",
    "scrolled": true
   },
   "outputs": [],
   "source": [
    "prod_split = [cap.split('\\n') for cap in caps]\n",
    "names = [split[0] for split in prod_split]\n",
    "vol = [split[1] for split in prod_split]\n",
    "\n",
    "full_list = {\n",
    "    'Name': names,\n",
    "    'Volume': vol,\n",
    "    'Price': prices\n",
    "}"
   ]
  },
  {
   "cell_type": "code",
   "execution_count": null,
   "id": "1adf273a",
   "metadata": {
    "id": "1adf273a"
   },
   "outputs": [],
   "source": [
    "df = pd.DataFrame(full_list)\n",
    "df.drop_duplicates()\n",
    "df.to_csv('Liqourlist.csv', index=False)"
   ]
  },
  {
   "cell_type": "code",
   "execution_count": null,
   "id": "00b985a9",
   "metadata": {
    "id": "00b985a9",
    "outputId": "0279ee08-d45d-4c21-f32d-24da1fa92860"
   },
   "outputs": [
    {
     "data": {
      "text/html": [
       "<div>\n",
       "<style scoped>\n",
       "    .dataframe tbody tr th:only-of-type {\n",
       "        vertical-align: middle;\n",
       "    }\n",
       "\n",
       "    .dataframe tbody tr th {\n",
       "        vertical-align: top;\n",
       "    }\n",
       "\n",
       "    .dataframe thead th {\n",
       "        text-align: right;\n",
       "    }\n",
       "</style>\n",
       "<table border=\"1\" class=\"dataframe\">\n",
       "  <thead>\n",
       "    <tr style=\"text-align: right;\">\n",
       "      <th></th>\n",
       "      <th>Name</th>\n",
       "      <th>Volume</th>\n",
       "      <th>Price</th>\n",
       "    </tr>\n",
       "  </thead>\n",
       "  <tbody>\n",
       "    <tr>\n",
       "      <th>0</th>\n",
       "      <td>Jack Daniels Tennessee Cola</td>\n",
       "      <td>330 ml</td>\n",
       "      <td>Ksh 460</td>\n",
       "    </tr>\n",
       "    <tr>\n",
       "      <th>1</th>\n",
       "      <td>Best whisky</td>\n",
       "      <td>750 ml</td>\n",
       "      <td>Ksh 1,400</td>\n",
       "    </tr>\n",
       "    <tr>\n",
       "      <th>2</th>\n",
       "      <td>Black &amp; white whisky</td>\n",
       "      <td>750 ml</td>\n",
       "      <td>Ksh 1,499</td>\n",
       "    </tr>\n",
       "    <tr>\n",
       "      <th>3</th>\n",
       "      <td>William lawson</td>\n",
       "      <td>750 ml</td>\n",
       "      <td>Ksh 1,800</td>\n",
       "    </tr>\n",
       "    <tr>\n",
       "      <th>4</th>\n",
       "      <td>Sir Edwards</td>\n",
       "      <td>750 ml</td>\n",
       "      <td>Ksh 1,800</td>\n",
       "    </tr>\n",
       "    <tr>\n",
       "      <th>...</th>\n",
       "      <td>...</td>\n",
       "      <td>...</td>\n",
       "      <td>...</td>\n",
       "    </tr>\n",
       "    <tr>\n",
       "      <th>2581</th>\n",
       "      <td>Dom perignon brut luminous</td>\n",
       "      <td>750 ml</td>\n",
       "      <td>Ksh 59,999</td>\n",
       "    </tr>\n",
       "    <tr>\n",
       "      <th>2582</th>\n",
       "      <td>Dom perignon brut 20.. vintage</td>\n",
       "      <td>750 ml</td>\n",
       "      <td>Ksh 59,999</td>\n",
       "    </tr>\n",
       "    <tr>\n",
       "      <th>2583</th>\n",
       "      <td>Dom perignon rose</td>\n",
       "      <td>750 ml</td>\n",
       "      <td>Ksh 64,999</td>\n",
       "    </tr>\n",
       "    <tr>\n",
       "      <th>2584</th>\n",
       "      <td>Armand de brignac ace of spades brut gold cham...</td>\n",
       "      <td>750 ml</td>\n",
       "      <td>Ksh 64,999</td>\n",
       "    </tr>\n",
       "    <tr>\n",
       "      <th>2585</th>\n",
       "      <td>Armand de brignac ace of spades rose</td>\n",
       "      <td>750 ml</td>\n",
       "      <td>Ksh 69,999</td>\n",
       "    </tr>\n",
       "  </tbody>\n",
       "</table>\n",
       "<p>2586 rows × 3 columns</p>\n",
       "</div>"
      ],
      "text/plain": [
       "                                                   Name  \\\n",
       "0                           Jack Daniels Tennessee Cola   \n",
       "1                                           Best whisky   \n",
       "2                                  Black & white whisky   \n",
       "3                                        William lawson   \n",
       "4                                           Sir Edwards   \n",
       "...                                                 ...   \n",
       "2581                         Dom perignon brut luminous   \n",
       "2582                     Dom perignon brut 20.. vintage   \n",
       "2583                                  Dom perignon rose   \n",
       "2584  Armand de brignac ace of spades brut gold cham...   \n",
       "2585               Armand de brignac ace of spades rose   \n",
       "\n",
       "                            Volume       Price  \n",
       "0                           330 ml     Ksh 460  \n",
       "1                           750 ml   Ksh 1,400  \n",
       "2                           750 ml   Ksh 1,499  \n",
       "3                           750 ml   Ksh 1,800  \n",
       "4                           750 ml   Ksh 1,800  \n",
       "...                            ...         ...  \n",
       "2581                        750 ml  Ksh 59,999  \n",
       "2582                        750 ml  Ksh 59,999  \n",
       "2583                        750 ml  Ksh 64,999  \n",
       "2584                        750 ml  Ksh 64,999  \n",
       "2585                        750 ml  Ksh 69,999  \n",
       "\n",
       "[2586 rows x 3 columns]"
      ]
     },
     "execution_count": 182,
     "metadata": {},
     "output_type": "execute_result"
    }
   ],
   "source": [
    "viewdf = pd.read_csv('Liqourlist.csv')\n",
    "viewdf"
   ]
  },
  {
   "cell_type": "markdown",
   "id": "O0aiOrLp_e9F",
   "metadata": {
    "id": "O0aiOrLp_e9F"
   },
   "source": [
    "# **Wholesalers**"
   ]
  },
  {
   "cell_type": "code",
   "execution_count": 1,
   "id": "UoQPFNpQ_fXk",
   "metadata": {
    "executionInfo": {
     "elapsed": 953,
     "status": "ok",
     "timestamp": 1718959892112,
     "user": {
      "displayName": "Eliud Otieno",
      "userId": "13361196665456944730"
     },
     "user_tz": -180
    },
    "id": "UoQPFNpQ_fXk"
   },
   "outputs": [],
   "source": [
    "import requests\n",
    "import re\n",
    "import pandas as pd\n",
    "from bs4 import BeautifulSoup"
   ]
  },
  {
   "cell_type": "code",
   "execution_count": 2,
   "id": "CA4fh6vS_j3A",
   "metadata": {
    "executionInfo": {
     "elapsed": 30574,
     "status": "ok",
     "timestamp": 1718959939060,
     "user": {
      "displayName": "Eliud Otieno",
      "userId": "13361196665456944730"
     },
     "user_tz": -180
    },
    "id": "CA4fh6vS_j3A"
   },
   "outputs": [],
   "source": [
    "url = 'https://jayswines.com/categories/'\n",
    "r = requests.get(url)\n",
    "soup = BeautifulSoup(r.text, 'lxml')\n",
    "\n",
    "urlists = soup.find_all('a', {'class':'vc_column-link smooth-scroll'})\n",
    "links = [url.get('href') for url in urlists]\n",
    "links = links[:-2]\n",
    "\n",
    "for link in links:\n",
    "    r = requests.get(link)\n",
    "    soup = BeautifulSoup(r.text, 'lxml')\n",
    "\n",
    "    # Extract product names and prices\n",
    "    wraps = soup.find_all('div', {'class':'w-vwrapper usg_vwrapper_1 align_center valign_top'})\n",
    "    names = [wrap.find('a') for wrap in wraps]\n",
    "    name = [name.text.strip() for name in names]\n",
    "\n",
    "    price_spans = [wrap.find('span', {'class':'woocommerce-Price-amount amount'}) for wrap in wraps]\n",
    "    price = [price_span.text.strip() for price_span in price_spans]\n",
    "\n",
    "    data = {\n",
    "        'Name': name,\n",
    "        'Price': price\n",
    "    }\n",
    "\n",
    "    df = pd.DataFrame(data)\n",
    "    df.drop_duplicates()\n",
    "\n",
    "    # Get the name from the link\n",
    "    product_name = link.split('/')[-2]\n",
    "    product_name = product_name.upper()\n",
    "\n",
    "    # Save the data to a CSV file\n",
    "    df.to_csv(f'{product_name}.csv', index=False)"
   ]
  },
  {
   "cell_type": "code",
   "execution_count": 3,
   "id": "ildhRT5o_rtG",
   "metadata": {
    "colab": {
     "base_uri": "https://localhost:8080/",
     "height": 423
    },
    "executionInfo": {
     "elapsed": 631,
     "status": "ok",
     "timestamp": 1718960009093,
     "user": {
      "displayName": "Eliud Otieno",
      "userId": "13361196665456944730"
     },
     "user_tz": -180
    },
    "id": "ildhRT5o_rtG",
    "outputId": "3d3a4899-b3f4-4aba-c477-be19a27ef64f"
   },
   "outputs": [
    {
     "name": "stdout",
     "output_type": "stream",
     "text": [
      "                                                   Name        Price  \\\n",
      "0     SIMONSIG FRANS MALAN (COMPLEX CAPE STYLE BLEND...  KSh6,750.00   \n",
      "1         NAPA CELLARS CABERNET SAUVIGNON 750ML (14.2%)  KSh6,400.00   \n",
      "2                    NAPA CELLARS CHARDONNY 750ML (14%)  KSh6,400.00   \n",
      "3                   SIMONSIG TIARA DRY RED 750ML(14.5%)  KSh6,400.00   \n",
      "4            GRAHAMS FINE 10YEARS TAWNY PORT 750ML(20%)  KSh6,200.00   \n",
      "...                                                 ...          ...   \n",
      "1047                                     V&A 750ML(20%)    KSh950.00   \n",
      "1048                          JELZIN APPLE 750ML(16.6%)  KSh1,100.00   \n",
      "1049                          GRENADINE SYRUP 750ML(0%)    KSh450.00   \n",
      "1050                              BEST CREAM 250ML(17%)    KSh430.00   \n",
      "1051                                     V&A 250ML(20%)    KSh370.00   \n",
      "\n",
      "     Liquor Type  \n",
      "0           Wine  \n",
      "1           Wine  \n",
      "2           Wine  \n",
      "3           Wine  \n",
      "4           Wine  \n",
      "...          ...  \n",
      "1047     Liqueur  \n",
      "1048     Liqueur  \n",
      "1049     Liqueur  \n",
      "1050     Liqueur  \n",
      "1051     Liqueur  \n",
      "\n",
      "[1052 rows x 3 columns]\n"
     ]
    }
   ],
   "source": [
    "import requests\n",
    "from bs4 import BeautifulSoup\n",
    "import pandas as pd\n",
    "\n",
    "# Initialize an empty list to store DataFrames\n",
    "all_dfs = []\n",
    "\n",
    "url = 'https://jayswines.com/categories/'\n",
    "r = requests.get(url)\n",
    "soup = BeautifulSoup(r.text, 'lxml')\n",
    "\n",
    "urlists = soup.find_all('a', {'class': 'vc_column-link smooth-scroll'})\n",
    "links = [url.get('href') for url in urlists]\n",
    "links = links[:-2]\n",
    "\n",
    "for link in links:\n",
    "    r = requests.get(link)\n",
    "    soup = BeautifulSoup(r.text, 'lxml')\n",
    "\n",
    "    # Extract product names and prices\n",
    "    wraps = soup.find_all('div', {'class': 'w-vwrapper usg_vwrapper_1 align_center valign_top'})\n",
    "    names = [wrap.find('a') for wrap in wraps]\n",
    "    name = [name.text.strip() for name in names]\n",
    "\n",
    "    price_spans = [wrap.find('span', {'class': 'woocommerce-Price-amount amount'}) for wrap in wraps]\n",
    "    price = [price_span.text.strip() for price_span in price_spans]\n",
    "\n",
    "    # Extract the liquor type from the link\n",
    "    liquor_type = link.split('/')[-2].replace('-', ' ').title()\n",
    "\n",
    "    data = {\n",
    "        'Name': name,\n",
    "        'Price': price,\n",
    "        'Liquor Type': [liquor_type] * len(name)  # Add the liquor type column\n",
    "    }\n",
    "\n",
    "    df = pd.DataFrame(data)\n",
    "    df.drop_duplicates(inplace=True)\n",
    "\n",
    "    # Append the DataFrame to the list\n",
    "    all_dfs.append(df)\n",
    "\n",
    "    # Save each DataFrame to a CSV file (optional)\n",
    "    df.to_csv(f'{liquor_type}.csv', index=False)\n",
    "\n",
    "# Concatenate all DataFrames into one\n",
    "final_df = pd.concat(all_dfs, ignore_index=True)\n",
    "\n",
    "# Save the final DataFrame to a CSV file\n",
    "final_df.to_csv('all_liquors.csv', index=False)\n",
    "\n",
    "# Print the final DataFrame\n",
    "print(final_df)\n"
   ]
  },
  {
   "cell_type": "code",
   "execution_count": 9,
   "id": "TbLWPWEh_-IF",
   "metadata": {
    "id": "TbLWPWEh_-IF"
   },
   "outputs": [
    {
     "data": {
      "text/html": [
       "<div>\n",
       "<style scoped>\n",
       "    .dataframe tbody tr th:only-of-type {\n",
       "        vertical-align: middle;\n",
       "    }\n",
       "\n",
       "    .dataframe tbody tr th {\n",
       "        vertical-align: top;\n",
       "    }\n",
       "\n",
       "    .dataframe thead th {\n",
       "        text-align: right;\n",
       "    }\n",
       "</style>\n",
       "<table border=\"1\" class=\"dataframe\">\n",
       "  <thead>\n",
       "    <tr style=\"text-align: right;\">\n",
       "      <th></th>\n",
       "      <th>Name</th>\n",
       "      <th>Price</th>\n",
       "      <th>Liquor Type</th>\n",
       "    </tr>\n",
       "  </thead>\n",
       "  <tbody>\n",
       "    <tr>\n",
       "      <th>400</th>\n",
       "      <td>ROBERTSON SWEET RED 750 ML(8%)</td>\n",
       "      <td>KSh1,350.00</td>\n",
       "      <td>Wine</td>\n",
       "    </tr>\n",
       "    <tr>\n",
       "      <th>401</th>\n",
       "      <td>FRONTERA CHARDONNAY 750ML(12%)</td>\n",
       "      <td>KSh1,350.00</td>\n",
       "      <td>Wine</td>\n",
       "    </tr>\n",
       "    <tr>\n",
       "      <th>402</th>\n",
       "      <td>MARA ROSE 750ML(8%)</td>\n",
       "      <td>KSh1,350.00</td>\n",
       "      <td>Wine</td>\n",
       "    </tr>\n",
       "    <tr>\n",
       "      <th>403</th>\n",
       "      <td>CINZANO ROSSO 750ML</td>\n",
       "      <td>KSh1,350.00</td>\n",
       "      <td>Wine</td>\n",
       "    </tr>\n",
       "    <tr>\n",
       "      <th>404</th>\n",
       "      <td>GATO NEGRO SWEET MOSCATO 750ML(12%)</td>\n",
       "      <td>KSh1,350.00</td>\n",
       "      <td>Wine</td>\n",
       "    </tr>\n",
       "    <tr>\n",
       "      <th>...</th>\n",
       "      <td>...</td>\n",
       "      <td>...</td>\n",
       "      <td>...</td>\n",
       "    </tr>\n",
       "    <tr>\n",
       "      <th>1047</th>\n",
       "      <td>V&amp;A 750ML(20%)</td>\n",
       "      <td>KSh950.00</td>\n",
       "      <td>Liqueur</td>\n",
       "    </tr>\n",
       "    <tr>\n",
       "      <th>1048</th>\n",
       "      <td>JELZIN APPLE 750ML(16.6%)</td>\n",
       "      <td>KSh1,100.00</td>\n",
       "      <td>Liqueur</td>\n",
       "    </tr>\n",
       "    <tr>\n",
       "      <th>1049</th>\n",
       "      <td>GRENADINE SYRUP 750ML(0%)</td>\n",
       "      <td>KSh450.00</td>\n",
       "      <td>Liqueur</td>\n",
       "    </tr>\n",
       "    <tr>\n",
       "      <th>1050</th>\n",
       "      <td>BEST CREAM 250ML(17%)</td>\n",
       "      <td>KSh430.00</td>\n",
       "      <td>Liqueur</td>\n",
       "    </tr>\n",
       "    <tr>\n",
       "      <th>1051</th>\n",
       "      <td>V&amp;A 250ML(20%)</td>\n",
       "      <td>KSh370.00</td>\n",
       "      <td>Liqueur</td>\n",
       "    </tr>\n",
       "  </tbody>\n",
       "</table>\n",
       "<p>652 rows × 3 columns</p>\n",
       "</div>"
      ],
      "text/plain": [
       "                                     Name        Price Liquor Type\n",
       "400        ROBERTSON SWEET RED 750 ML(8%)  KSh1,350.00        Wine\n",
       "401        FRONTERA CHARDONNAY 750ML(12%)  KSh1,350.00        Wine\n",
       "402                   MARA ROSE 750ML(8%)  KSh1,350.00        Wine\n",
       "403                   CINZANO ROSSO 750ML  KSh1,350.00        Wine\n",
       "404   GATO NEGRO SWEET MOSCATO 750ML(12%)  KSh1,350.00        Wine\n",
       "...                                   ...          ...         ...\n",
       "1047                       V&A 750ML(20%)    KSh950.00     Liqueur\n",
       "1048            JELZIN APPLE 750ML(16.6%)  KSh1,100.00     Liqueur\n",
       "1049            GRENADINE SYRUP 750ML(0%)    KSh450.00     Liqueur\n",
       "1050                BEST CREAM 250ML(17%)    KSh430.00     Liqueur\n",
       "1051                       V&A 250ML(20%)    KSh370.00     Liqueur\n",
       "\n",
       "[652 rows x 3 columns]"
      ]
     },
     "execution_count": 9,
     "metadata": {},
     "output_type": "execute_result"
    }
   ],
   "source": [
    "final_df[400:]"
   ]
  },
  {
   "cell_type": "code",
   "execution_count": null,
   "id": "56f264f4-5008-4c94-b1cb-3d2de9864b35",
   "metadata": {},
   "outputs": [],
   "source": []
  }
 ],
 "metadata": {
  "colab": {
   "collapsed_sections": [
    "hmvdWrs7_Tq6"
   ],
   "provenance": []
  },
  "kernelspec": {
   "display_name": "Python 3 (ipykernel)",
   "language": "python",
   "name": "python3"
  },
  "language_info": {
   "codemirror_mode": {
    "name": "ipython",
    "version": 3
   },
   "file_extension": ".py",
   "mimetype": "text/x-python",
   "name": "python",
   "nbconvert_exporter": "python",
   "pygments_lexer": "ipython3",
   "version": "3.11.5"
  }
 },
 "nbformat": 4,
 "nbformat_minor": 5
}
