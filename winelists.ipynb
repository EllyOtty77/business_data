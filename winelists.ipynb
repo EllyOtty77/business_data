{
    "metadata": {
        "kernelspec": {
            "name": "python3",
            "display_name": "Python 3",
            "language": "python"
        },
        "language_info": {
            "name": "python",
            "version": "3.11.5",
            "mimetype": "text/x-python",
            "codemirror_mode": {
                "name": "ipython",
                "version": 3
            },
            "pygments_lexer": "ipython3",
            "nbconvert_exporter": "python",
            "file_extension": ".py"
        },
        "colab": {
            "collapsed_sections": [
                "hmvdWrs7_Tq6"
            ],
            "provenance": []
        }
    },
    "nbformat_minor": 2,
    "nbformat": 4,
    "cells": [
        {
            "cell_type": "markdown",
            "source": [
                "# **Winelists**"
            ],
            "metadata": {
                "id": "hmvdWrs7_Tq6",
                "azdata_cell_guid": "6d45e34c-81bd-481d-bd89-440005208cd1"
            }
        },
        {
            "cell_type": "code",
            "source": [
                "import requests\n",
                "import re\n",
                "import pandas as pd\n",
                "from bs4 import BeautifulSoup\n",
                "\n",
                "url = 'https://nairobidrinks.co.ke/pricelist'\n",
                "r = requests.get(url)"
            ],
            "metadata": {
                "id": "bc280dcc",
                "outputId": "0802dcef-c188-4496-9d7d-1c618a99180a",
                "azdata_cell_guid": "edad86a9-ef47-4260-ae34-895b52e45088",
                "language": "python"
            },
            "outputs": [
                {
                    "output_type": "execute_result",
                    "execution_count": 3,
                    "data": {
                        "text/plain": "<Response [200]>"
                    },
                    "metadata": {}
                }
            ],
            "execution_count": null
        },
        {
            "cell_type": "code",
            "source": [
                "soup = BeautifulSoup(r.text, 'lxml')\n",
                "sects = soup.find_all('tr')"
            ],
            "metadata": {
                "id": "92b248bc",
                "azdata_cell_guid": "c5e88fc6-52ed-4c59-86a6-a11fbca8ba80",
                "language": "python"
            },
            "outputs": [],
            "execution_count": null
        },
        {
            "cell_type": "code",
            "source": [
                "titles = []\n",
                "for tr in sects:\n",
                "    title = tr.find_all('td')\n",
                "    titles.extend(title)"
            ],
            "metadata": {
                "id": "aab4d64c",
                "azdata_cell_guid": "043f4bdb-f0cf-4b1d-a584-ad4f31d1caaa",
                "language": "python"
            },
            "outputs": [],
            "execution_count": null
        },
        {
            "cell_type": "code",
            "source": [
                "products = [title.text.strip() for title in titles]\n",
                "caps = products[0::3]\n",
                "prices = products[1::3]"
            ],
            "metadata": {
                "id": "53decf2a",
                "scrolled": true,
                "azdata_cell_guid": "4061422f-a83a-49ed-8f3d-3a0556045dfa",
                "language": "python"
            },
            "outputs": [],
            "execution_count": null
        },
        {
            "cell_type": "code",
            "source": [
                "prod_split = [cap.split('\\n') for cap in caps]\n",
                "names = [split[0] for split in prod_split]\n",
                "vol = [split[1] for split in prod_split]\n",
                "\n",
                "full_list = {\n",
                "    'Name': names,\n",
                "    'Volume': vol,\n",
                "    'Price': prices\n",
                "}"
            ],
            "metadata": {
                "id": "91d3a962",
                "scrolled": true,
                "azdata_cell_guid": "cd9beefe-925c-4684-b7af-11d5d5107c31",
                "language": "python"
            },
            "outputs": [],
            "execution_count": null
        },
        {
            "cell_type": "code",
            "source": [
                "df = pd.DataFrame(full_list)\n",
                "df.drop_duplicates()\n",
                "df.to_csv('Liqourlist.csv', index=False)"
            ],
            "metadata": {
                "id": "1adf273a",
                "azdata_cell_guid": "0b264f23-7dee-47e5-bb3b-9b88552bde84",
                "language": "python"
            },
            "outputs": [],
            "execution_count": null
        },
        {
            "cell_type": "code",
            "source": [
                "viewdf = pd.read_csv('Liqourlist.csv')\n",
                "viewdf"
            ],
            "metadata": {
                "id": "00b985a9",
                "outputId": "0279ee08-d45d-4c21-f32d-24da1fa92860",
                "azdata_cell_guid": "c3d2e147-17e1-4df6-81c6-14250ba94825",
                "language": "python"
            },
            "outputs": [
                {
                    "output_type": "execute_result",
                    "execution_count": 182,
                    "data": {
                        "text/html": "<div>\n<style scoped>\n    .dataframe tbody tr th:only-of-type {\n        vertical-align: middle;\n    }\n\n    .dataframe tbody tr th {\n        vertical-align: top;\n    }\n\n    .dataframe thead th {\n        text-align: right;\n    }\n</style>\n<table border=\"1\" class=\"dataframe\">\n  <thead>\n    <tr style=\"text-align: right;\">\n      <th></th>\n      <th>Name</th>\n      <th>Volume</th>\n      <th>Price</th>\n    </tr>\n  </thead>\n  <tbody>\n    <tr>\n      <th>0</th>\n      <td>Jack Daniels Tennessee Cola</td>\n      <td>330 ml</td>\n      <td>Ksh 460</td>\n    </tr>\n    <tr>\n      <th>1</th>\n      <td>Best whisky</td>\n      <td>750 ml</td>\n      <td>Ksh 1,400</td>\n    </tr>\n    <tr>\n      <th>2</th>\n      <td>Black &amp; white whisky</td>\n      <td>750 ml</td>\n      <td>Ksh 1,499</td>\n    </tr>\n    <tr>\n      <th>3</th>\n      <td>William lawson</td>\n      <td>750 ml</td>\n      <td>Ksh 1,800</td>\n    </tr>\n    <tr>\n      <th>4</th>\n      <td>Sir Edwards</td>\n      <td>750 ml</td>\n      <td>Ksh 1,800</td>\n    </tr>\n    <tr>\n      <th>...</th>\n      <td>...</td>\n      <td>...</td>\n      <td>...</td>\n    </tr>\n    <tr>\n      <th>2581</th>\n      <td>Dom perignon brut luminous</td>\n      <td>750 ml</td>\n      <td>Ksh 59,999</td>\n    </tr>\n    <tr>\n      <th>2582</th>\n      <td>Dom perignon brut 20.. vintage</td>\n      <td>750 ml</td>\n      <td>Ksh 59,999</td>\n    </tr>\n    <tr>\n      <th>2583</th>\n      <td>Dom perignon rose</td>\n      <td>750 ml</td>\n      <td>Ksh 64,999</td>\n    </tr>\n    <tr>\n      <th>2584</th>\n      <td>Armand de brignac ace of spades brut gold cham...</td>\n      <td>750 ml</td>\n      <td>Ksh 64,999</td>\n    </tr>\n    <tr>\n      <th>2585</th>\n      <td>Armand de brignac ace of spades rose</td>\n      <td>750 ml</td>\n      <td>Ksh 69,999</td>\n    </tr>\n  </tbody>\n</table>\n<p>2586 rows × 3 columns</p>\n</div>",
                        "text/plain": "                                                   Name  \\\n0                           Jack Daniels Tennessee Cola   \n1                                           Best whisky   \n2                                  Black & white whisky   \n3                                        William lawson   \n4                                           Sir Edwards   \n...                                                 ...   \n2581                         Dom perignon brut luminous   \n2582                     Dom perignon brut 20.. vintage   \n2583                                  Dom perignon rose   \n2584  Armand de brignac ace of spades brut gold cham...   \n2585               Armand de brignac ace of spades rose   \n\n                            Volume       Price  \n0                           330 ml     Ksh 460  \n1                           750 ml   Ksh 1,400  \n2                           750 ml   Ksh 1,499  \n3                           750 ml   Ksh 1,800  \n4                           750 ml   Ksh 1,800  \n...                            ...         ...  \n2581                        750 ml  Ksh 59,999  \n2582                        750 ml  Ksh 59,999  \n2583                        750 ml  Ksh 64,999  \n2584                        750 ml  Ksh 64,999  \n2585                        750 ml  Ksh 69,999  \n\n[2586 rows x 3 columns]"
                    },
                    "metadata": {}
                }
            ],
            "execution_count": null
        },
        {
            "cell_type": "markdown",
            "source": [
                "# **Wholesalers**"
            ],
            "metadata": {
                "id": "O0aiOrLp_e9F",
                "azdata_cell_guid": "b9745b37-c32f-4a9b-a0d2-e75451494d49"
            }
        },
        {
            "cell_type": "code",
            "source": [
                "import requests\n",
                "import re\n",
                "import pandas as pd\n",
                "from bs4 import BeautifulSoup"
            ],
            "metadata": {
                "executionInfo": {
                    "elapsed": 953,
                    "status": "ok",
                    "timestamp": 1718959892112,
                    "user": {
                        "displayName": "Eliud Otieno",
                        "userId": "13361196665456944730"
                    },
                    "user_tz": -180
                },
                "id": "UoQPFNpQ_fXk",
                "azdata_cell_guid": "fab76c8b-248d-4bb5-88ae-b9d2a8f02e14",
                "language": "python"
            },
            "outputs": [],
            "execution_count": 1
        },
        {
            "cell_type": "code",
            "source": [
                "# Initialize an empty list to store DataFrames\n",
                "all_dfs = []\n",
                "\n",
                "url = 'https://jayswines.com/categories/'\n",
                "r = requests.get(url)\n",
                "soup = BeautifulSoup(r.text, 'lxml')\n",
                "\n",
                "urlists = soup.find_all('a', {'class': 'vc_column-link smooth-scroll'})\n",
                "links = [url.get('href') for url in urlists]\n",
                "links = links[:-2]\n",
                "\n",
                "for link in links:\n",
                "    r = requests.get(link)\n",
                "    soup = BeautifulSoup(r.text, 'lxml')\n",
                "\n",
                "    # Extract product names and prices\n",
                "    wraps = soup.find_all('div', {'class': 'w-vwrapper usg_vwrapper_1 align_center valign_top'})\n",
                "    names = [wrap.find('a') for wrap in wraps]\n",
                "    name = [name.text.strip() for name in names]\n",
                "\n",
                "    price_spans = [wrap.find('span', {'class': 'woocommerce-Price-amount amount'}) for wrap in wraps]\n",
                "    price = [price_span.text.strip() for price_span in price_spans]\n",
                "\n",
                "    # Extract the liquor type from the link\n",
                "    liquor_type = link.split('/')[-2].replace('-', ' ').title()\n",
                "\n",
                "    data = {\n",
                "        'Name': name,\n",
                "        'Price': price,\n",
                "        'Liquor Type': [liquor_type] * len(name)\n",
                "\n",
                "    df = pd.DataFrame(data)\n",
                "    df.drop_duplicates(inplace=True)\n",
                "\n",
                "    # Append the DataFrame to the list\n",
                "    all_dfs.append(df)\n",
                "\n",
                "\n",
                "# Concatenate all DataFrames into one\n",
                "final_df = pd.concat(all_dfs, ignore_index=True)\n",
                "\n",
                "# Save the final DataFrame to a CSV file\n",
                "final_df.to_csv('all_liquors.csv', index=False)"
            ],
            "metadata": {
                "colab": {
                    "base_uri": "https://localhost:8080/",
                    "height": 423
                },
                "executionInfo": {
                    "elapsed": 631,
                    "status": "ok",
                    "timestamp": 1718960009093,
                    "user": {
                        "displayName": "Eliud Otieno",
                        "userId": "13361196665456944730"
                    },
                    "user_tz": -180
                },
                "id": "ildhRT5o_rtG",
                "outputId": "3d3a4899-b3f4-4aba-c477-be19a27ef64f",
                "azdata_cell_guid": "908e525e-db25-4863-9511-4bb71e827762",
                "language": "python"
            },
            "outputs": [
                {
                    "output_type": "stream",
                    "name": "stdout",
                    "text": "                                                   Name        Price  \\\n0     SIMONSIG FRANS MALAN (COMPLEX CAPE STYLE BLEND...  KSh6,750.00   \n1         NAPA CELLARS CABERNET SAUVIGNON 750ML (14.2%)  KSh6,400.00   \n2                    NAPA CELLARS CHARDONNY 750ML (14%)  KSh6,400.00   \n3                   SIMONSIG TIARA DRY RED 750ML(14.5%)  KSh6,400.00   \n4            GRAHAMS FINE 10YEARS TAWNY PORT 750ML(20%)  KSh6,200.00   \n...                                                 ...          ...   \n1047                                     V&A 750ML(20%)    KSh950.00   \n1048                          JELZIN APPLE 750ML(16.6%)  KSh1,100.00   \n1049                          GRENADINE SYRUP 750ML(0%)    KSh450.00   \n1050                              BEST CREAM 250ML(17%)    KSh430.00   \n1051                                     V&A 250ML(20%)    KSh370.00   \n\n     Liquor Type  \n0           Wine  \n1           Wine  \n2           Wine  \n3           Wine  \n4           Wine  \n...          ...  \n1047     Liqueur  \n1048     Liqueur  \n1049     Liqueur  \n1050     Liqueur  \n1051     Liqueur  \n\n[1052 rows x 3 columns]\n"
                }
            ],
            "execution_count": 3
        }
    ]
}